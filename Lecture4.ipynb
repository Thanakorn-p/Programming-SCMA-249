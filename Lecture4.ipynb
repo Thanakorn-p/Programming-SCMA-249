{
 "cells": [
  {
   "cell_type": "code",
   "execution_count": null,
   "id": "945bdcf2",
   "metadata": {},
   "outputs": [],
   "source": [
    "#Example 4.1\n",
    "txt1 = 'Actuarial Science'\n",
    "txt2 = \"Computer Programming\"\n",
    "txt3 = \"\"\"I wanna create a very long string in Python by enclosing\n",
    "it in triple-quote. It will be spread across multiple lines.\"\"\"\n",
    "txt4 = 'I\\'m a student in an actuarial science program.'"
   ]
  },
  {
   "cell_type": "code",
   "execution_count": null,
   "id": "62bcc3c3",
   "metadata": {},
   "outputs": [],
   "source": [
    "#Example 4.2.1\n",
    "len(txt1)"
   ]
  },
  {
   "cell_type": "code",
   "execution_count": null,
   "id": "484e6c90",
   "metadata": {},
   "outputs": [],
   "source": [
    "#Example 4.2.2\n",
    "len(txt2)"
   ]
  },
  {
   "cell_type": "code",
   "execution_count": null,
   "id": "711f2df5",
   "metadata": {},
   "outputs": [],
   "source": [
    "#Example 4.2.3\n",
    "len(txt3)"
   ]
  },
  {
   "cell_type": "code",
   "execution_count": null,
   "id": "2d888356",
   "metadata": {},
   "outputs": [],
   "source": [
    "#Example 4.2.4\n",
    "len(txt4)"
   ]
  },
  {
   "cell_type": "code",
   "execution_count": null,
   "id": "e84d8edc",
   "metadata": {},
   "outputs": [],
   "source": [
    "#Example 4.3.1\n",
    "'SCMA' + ' 249'"
   ]
  },
  {
   "cell_type": "code",
   "execution_count": null,
   "id": "ca2af9b1",
   "metadata": {},
   "outputs": [],
   "source": [
    "#Example 4.3.2 \n",
    "'SCMA' + ' 249' + ' Semester 1'"
   ]
  },
  {
   "cell_type": "code",
   "execution_count": null,
   "id": "8ab30a68",
   "metadata": {},
   "outputs": [],
   "source": [
    "#Example 4.3.3\n",
    "'A' * 10"
   ]
  },
  {
   "cell_type": "code",
   "execution_count": null,
   "id": "a6137209",
   "metadata": {},
   "outputs": [],
   "source": [
    "#Example 4.3.4\n",
    "'B' + 'K'*2"
   ]
  },
  {
   "cell_type": "code",
   "execution_count": null,
   "id": "652b4bc0",
   "metadata": {},
   "outputs": [],
   "source": [
    "# Example 4.4\n",
    "print('Please enter your ID card number.')\n",
    "#create an empty string\n",
    "id_no = ''\n",
    "for i in range(13):\n",
    "    txt = 'Digit' + str(1+i) + ':'\n",
    "    d = input(txt)\n",
    "    id_no += d\n",
    "print(id_no)"
   ]
  },
  {
   "cell_type": "code",
   "execution_count": null,
   "id": "a6024fd1",
   "metadata": {},
   "outputs": [],
   "source": [
    "#Example 4.5\n",
    "s = 'EXAMPLE 4.5'"
   ]
  },
  {
   "cell_type": "code",
   "execution_count": null,
   "id": "efe29de9",
   "metadata": {},
   "outputs": [],
   "source": [
    "#Example 4.5.1\n",
    "s[0]"
   ]
  },
  {
   "cell_type": "code",
   "execution_count": null,
   "id": "8eb97516",
   "metadata": {},
   "outputs": [],
   "source": [
    "#Example 4.5.2\n",
    "s[-11]"
   ]
  },
  {
   "cell_type": "code",
   "execution_count": null,
   "id": "508831ba",
   "metadata": {},
   "outputs": [],
   "source": [
    "#Example 4.5.3\n",
    "s[-len(s)]"
   ]
  },
  {
   "cell_type": "code",
   "execution_count": null,
   "id": "151f9434",
   "metadata": {},
   "outputs": [],
   "source": [
    "#Example 4.5.4\n",
    "#To get the character M in s, the code is \n",
    "s[3],s[-8]"
   ]
  },
  {
   "cell_type": "code",
   "execution_count": null,
   "id": "8bab39c4",
   "metadata": {},
   "outputs": [],
   "source": [
    "#Example 4.5.5\n",
    "#To get the character 4 in s, the code is\n",
    "s[8],s[-3]"
   ]
  },
  {
   "cell_type": "code",
   "execution_count": null,
   "id": "b0ef4e95",
   "metadata": {},
   "outputs": [],
   "source": [
    "#Example 4.6\n",
    "s1 = '0123456789'"
   ]
  },
  {
   "cell_type": "code",
   "execution_count": null,
   "id": "5bf2e14e",
   "metadata": {},
   "outputs": [],
   "source": [
    "s1[2:6]"
   ]
  },
  {
   "cell_type": "code",
   "execution_count": null,
   "id": "0352b019",
   "metadata": {},
   "outputs": [],
   "source": [
    "s1[:3]"
   ]
  },
  {
   "cell_type": "code",
   "execution_count": null,
   "id": "d21b57f7",
   "metadata": {},
   "outputs": [],
   "source": [
    "s1[3:]"
   ]
  },
  {
   "cell_type": "code",
   "execution_count": null,
   "id": "e4a0b6dd",
   "metadata": {
    "scrolled": true
   },
   "outputs": [],
   "source": [
    "s1[-3:]"
   ]
  },
  {
   "cell_type": "code",
   "execution_count": null,
   "id": "98c36a29",
   "metadata": {},
   "outputs": [],
   "source": [
    "s1[:]"
   ]
  },
  {
   "cell_type": "code",
   "execution_count": null,
   "id": "9144838b",
   "metadata": {},
   "outputs": [],
   "source": [
    "s1[0:]"
   ]
  },
  {
   "cell_type": "code",
   "execution_count": null,
   "id": "ab5f501b",
   "metadata": {},
   "outputs": [],
   "source": [
    "s1[:len(s1)]"
   ]
  },
  {
   "cell_type": "code",
   "execution_count": null,
   "id": "c1a4a34c",
   "metadata": {},
   "outputs": [],
   "source": [
    "#Pick the character indices 5 to 12\n",
    "s1[5:13]"
   ]
  },
  {
   "cell_type": "code",
   "execution_count": null,
   "id": "cb1ddbaf",
   "metadata": {},
   "outputs": [],
   "source": [
    "#slice by using the negative indices\n",
    "s1[-7:-3]"
   ]
  },
  {
   "cell_type": "code",
   "execution_count": null,
   "id": "bd0e75cc",
   "metadata": {
    "scrolled": true
   },
   "outputs": [],
   "source": [
    "#Example 4.7\n",
    "s1[2:10:2]"
   ]
  },
  {
   "cell_type": "code",
   "execution_count": null,
   "id": "e9398a05",
   "metadata": {},
   "outputs": [],
   "source": [
    "s1[::2]"
   ]
  },
  {
   "cell_type": "code",
   "execution_count": null,
   "id": "79e8a9af",
   "metadata": {},
   "outputs": [],
   "source": [
    "s1[1::2]"
   ]
  },
  {
   "cell_type": "code",
   "execution_count": null,
   "id": "9fffcd59",
   "metadata": {},
   "outputs": [],
   "source": [
    "s1[::-1]"
   ]
  },
  {
   "cell_type": "code",
   "execution_count": null,
   "id": "a921704a",
   "metadata": {},
   "outputs": [],
   "source": [
    "s1[::-2]"
   ]
  },
  {
   "cell_type": "code",
   "execution_count": null,
   "id": "7680ecb8",
   "metadata": {},
   "outputs": [],
   "source": [
    "#Example 4.8\n",
    "s3 = ' I love SCMA 249. '"
   ]
  },
  {
   "cell_type": "code",
   "execution_count": null,
   "id": "3f2e0da8",
   "metadata": {},
   "outputs": [],
   "source": [
    "s4 = s3.lower()\n",
    "print(s4)"
   ]
  },
  {
   "cell_type": "code",
   "execution_count": null,
   "id": "ded61331",
   "metadata": {
    "scrolled": true
   },
   "outputs": [],
   "source": [
    "s5 = s3.upper()\n",
    "print(s5)"
   ]
  },
  {
   "cell_type": "code",
   "execution_count": null,
   "id": "b4816bfc",
   "metadata": {},
   "outputs": [],
   "source": [
    "s6 = s3.strip()\n",
    "print(s6)"
   ]
  },
  {
   "cell_type": "code",
   "execution_count": null,
   "id": "ac80fdf7",
   "metadata": {
    "scrolled": true
   },
   "outputs": [],
   "source": [
    "s7 = s3.strip().upper()\n",
    "print(s7)"
   ]
  },
  {
   "cell_type": "code",
   "execution_count": null,
   "id": "15167506",
   "metadata": {},
   "outputs": [],
   "source": [
    "a = s3.split()\n",
    "print(a[0],\"(index 0)\")\n",
    "print(a[1],\"(index 1)\")\n",
    "print(a[2],\"(index 2)\")\n",
    "print(a[3],\"(index 3)\")"
   ]
  },
  {
   "cell_type": "code",
   "execution_count": null,
   "id": "02405e49",
   "metadata": {},
   "outputs": [],
   "source": [
    "s3.count(' ')"
   ]
  },
  {
   "cell_type": "code",
   "execution_count": null,
   "id": "1058cb3f",
   "metadata": {},
   "outputs": [],
   "source": [
    "s3.index('e')"
   ]
  },
  {
   "cell_type": "code",
   "execution_count": null,
   "id": "8879d36d",
   "metadata": {},
   "outputs": [],
   "source": [
    "s3.isalpha()"
   ]
  },
  {
   "cell_type": "code",
   "execution_count": null,
   "id": "6e093147",
   "metadata": {},
   "outputs": [],
   "source": [
    "s[-4:-2].isalpha()"
   ]
  },
  {
   "cell_type": "code",
   "execution_count": null,
   "id": "94e93e43",
   "metadata": {},
   "outputs": [],
   "source": [
    "s[-9:-6].isalpha()"
   ]
  },
  {
   "cell_type": "code",
   "execution_count": null,
   "id": "0e7824ba",
   "metadata": {},
   "outputs": [],
   "source": [
    "#Example 4.9\n",
    "if s3[0].isalpha():\n",
    "    print('Your string starts with a letter')\n",
    "if not s3.isalpha():\n",
    "    print('Your string contains a non-letter.')"
   ]
  },
  {
   "cell_type": "code",
   "execution_count": null,
   "id": "cf206b86",
   "metadata": {
    "scrolled": true
   },
   "outputs": [],
   "source": [
    "#Example 4.10\n",
    "print('SCMA\\n249')"
   ]
  },
  {
   "cell_type": "code",
   "execution_count": null,
   "id": "4a581ec5",
   "metadata": {
    "scrolled": true
   },
   "outputs": [],
   "source": [
    "'I don\\'t want to miss any class of SCMA 249'"
   ]
  },
  {
   "cell_type": "code",
   "execution_count": null,
   "id": "318696db",
   "metadata": {},
   "outputs": [],
   "source": [
    "print('SCMA\\t\\t\\t249')"
   ]
  },
  {
   "cell_type": "code",
   "execution_count": null,
   "id": "495d5d13",
   "metadata": {},
   "outputs": [],
   "source": [
    "#Example 4.11\n",
    "ord('A')"
   ]
  },
  {
   "cell_type": "code",
   "execution_count": null,
   "id": "382e5437",
   "metadata": {},
   "outputs": [],
   "source": [
    "chr(125)"
   ]
  },
  {
   "cell_type": "code",
   "execution_count": null,
   "id": "f3becdc5",
   "metadata": {
    "scrolled": true
   },
   "outputs": [],
   "source": [
    "ord('Example')"
   ]
  },
  {
   "cell_type": "code",
   "execution_count": null,
   "id": "99f978ff",
   "metadata": {},
   "outputs": [],
   "source": [
    "#Example 4.12.1\n",
    "x1 = []"
   ]
  },
  {
   "cell_type": "code",
   "execution_count": null,
   "id": "d0dd498d",
   "metadata": {},
   "outputs": [],
   "source": [
    "#Example 4.12.2\n",
    "x2 = list()"
   ]
  },
  {
   "cell_type": "code",
   "execution_count": null,
   "id": "db1ec207",
   "metadata": {},
   "outputs": [],
   "source": [
    "#Example 4.12.3\n",
    "x3 = [2,4,9]"
   ]
  },
  {
   "cell_type": "code",
   "execution_count": null,
   "id": "dd63346f",
   "metadata": {},
   "outputs": [],
   "source": [
    "#Example 4.12.4\n",
    "x4 = [249] * 10"
   ]
  },
  {
   "cell_type": "code",
   "execution_count": null,
   "id": "ff6d8f70",
   "metadata": {},
   "outputs": [],
   "source": [
    "#Example 4.12.5\n",
    "x5 = list('SCMA 249')"
   ]
  },
  {
   "cell_type": "code",
   "execution_count": null,
   "id": "f90c85da",
   "metadata": {},
   "outputs": [],
   "source": [
    "#Example 4.12.6\n",
    "x6 = list(range(1,10,2))"
   ]
  },
  {
   "cell_type": "code",
   "execution_count": null,
   "id": "a39557c1",
   "metadata": {},
   "outputs": [],
   "source": [
    "#Example 4.12.7\n",
    "x7 = ['SCMA', 249, [1,2019]]"
   ]
  },
  {
   "cell_type": "code",
   "execution_count": null,
   "id": "e64abde7",
   "metadata": {},
   "outputs": [],
   "source": [
    "#Example 4.12.8\n",
    "x8 = [1,2] + [0,1]"
   ]
  },
  {
   "cell_type": "code",
   "execution_count": null,
   "id": "fc72f050",
   "metadata": {},
   "outputs": [],
   "source": [
    "#Example 4.12.9\n",
    "x9 = 2*([1,2] + 2*[0,1])\n",
    "x9"
   ]
  },
  {
   "cell_type": "code",
   "execution_count": null,
   "id": "7b3b03f3",
   "metadata": {},
   "outputs": [],
   "source": [
    "#Example 4.13.1\n",
    "len(x9)"
   ]
  },
  {
   "cell_type": "code",
   "execution_count": null,
   "id": "12ecf8f7",
   "metadata": {},
   "outputs": [],
   "source": [
    "#Example 4.13.2\n",
    "sum(x9)"
   ]
  },
  {
   "cell_type": "code",
   "execution_count": null,
   "id": "3c7e74b2",
   "metadata": {},
   "outputs": [],
   "source": [
    "#Example 4.13.3\n",
    "min(x9)"
   ]
  },
  {
   "cell_type": "code",
   "execution_count": null,
   "id": "78b8b0b3",
   "metadata": {},
   "outputs": [],
   "source": [
    "#Example 4.13.4\n",
    "max(x9)"
   ]
  },
  {
   "cell_type": "code",
   "execution_count": null,
   "id": "e52c36a2",
   "metadata": {},
   "outputs": [],
   "source": [
    "#Example 4.13.5\n",
    "x5.append('!')\n",
    "print(x5)\n",
    "#add \"!\" to the end of the list"
   ]
  },
  {
   "cell_type": "code",
   "execution_count": null,
   "id": "7c097919",
   "metadata": {},
   "outputs": [],
   "source": [
    "#Example 4.13.6\n",
    "sorted(x9)"
   ]
  },
  {
   "cell_type": "code",
   "execution_count": null,
   "id": "fe698cee",
   "metadata": {},
   "outputs": [],
   "source": [
    "#Example 4.13.7\n",
    "x9.count(0)"
   ]
  },
  {
   "cell_type": "code",
   "execution_count": null,
   "id": "bdc7ffa2",
   "metadata": {},
   "outputs": [],
   "source": [
    "#Example 4.13.8\n",
    "x8.index(0)"
   ]
  },
  {
   "cell_type": "code",
   "execution_count": null,
   "id": "bbc155a7",
   "metadata": {},
   "outputs": [],
   "source": [
    "#Example 4.13.9\n",
    "c = x9[:]\n",
    "print(c)"
   ]
  },
  {
   "cell_type": "code",
   "execution_count": null,
   "id": "a10b16a7",
   "metadata": {},
   "outputs": [],
   "source": [
    "#Example 4.14\n",
    "from random import randint\n",
    "L1 = []\n",
    "for i in range(10):\n",
    "    L1.append(randint(1,100))\n",
    "print(L1)"
   ]
  },
  {
   "cell_type": "code",
   "execution_count": null,
   "id": "13a1adcf",
   "metadata": {},
   "outputs": [],
   "source": [
    "#Example 4.15 (づ ◕‿◕ )づ\n",
    "num_right = 0\n",
    "# Question 1\n",
    "print('What is the capital of Thailand?', end=' ')\n",
    "guess = input()\n",
    "if guess.lower()== 'bangkok':\n",
    "    print('Correct!')\n",
    "    num_right+=1\n",
    "else:\n",
    "    print('Wrong. The answer is Bangkok.')\n",
    "print('You have', num_right, 'out of 1 right')\n",
    "\n",
    "#Question 2\n",
    "print('From which language is the word \\'ketchup\\' derived?',end=' ')\n",
    "guess = input()\n",
    "if guess.lower()=='chinese':\n",
    "    print('Correct!')\n",
    "    num_right+=1\n",
    "else:\n",
    "    print('Wrong. The answer is Chinese.')\n",
    "print('You have', num_right, 'out of 2 right,')"
   ]
  }
 ],
 "metadata": {
  "kernelspec": {
   "display_name": "Python 3 (ipykernel)",
   "language": "python",
   "name": "python3"
  },
  "language_info": {
   "codemirror_mode": {
    "name": "ipython",
    "version": 3
   },
   "file_extension": ".py",
   "mimetype": "text/x-python",
   "name": "python",
   "nbconvert_exporter": "python",
   "pygments_lexer": "ipython3",
   "version": "3.10.9"
  }
 },
 "nbformat": 4,
 "nbformat_minor": 5
}
