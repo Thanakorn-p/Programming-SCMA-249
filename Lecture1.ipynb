{
 "cells": [
  {
   "cell_type": "code",
   "execution_count": null,
   "id": "7b84e5cb",
   "metadata": {},
   "outputs": [],
   "source": [
    "# Test the comment \n",
    "print(\"I love SCMA 249\")\n",
    "print('I love SCMA 249')"
   ]
  },
  {
   "cell_type": "code",
   "execution_count": null,
   "id": "45cc3c75",
   "metadata": {},
   "outputs": [],
   "source": [
    "print(\"this string contain a single quote (') character\")"
   ]
  },
  {
   "cell_type": "code",
   "execution_count": null,
   "id": "1ac554c0",
   "metadata": {},
   "outputs": [],
   "source": [
    "4.2\n",
    "type(4.2)"
   ]
  },
  {
   "cell_type": "code",
   "execution_count": null,
   "id": "6beca868",
   "metadata": {},
   "outputs": [],
   "source": [
    "4.2e8"
   ]
  },
  {
   "cell_type": "code",
   "execution_count": null,
   "id": "15934c5d",
   "metadata": {},
   "outputs": [],
   "source": [
    "# Assign values to variable\\\n",
    "a = b = c = 1.0\n",
    "d = \"I love SCMA 249\"\n",
    "print(a)\n",
    "print(b)"
   ]
  },
  {
   "cell_type": "code",
   "execution_count": null,
   "id": "d14448f4",
   "metadata": {},
   "outputs": [],
   "source": [
    "print(a+b)"
   ]
  },
  {
   "cell_type": "code",
   "execution_count": null,
   "id": "542406df",
   "metadata": {},
   "outputs": [],
   "source": [
    "my variable = 12"
   ]
  }
 ],
 "metadata": {
  "kernelspec": {
   "display_name": "Python 3 (ipykernel)",
   "language": "python",
   "name": "python3"
  },
  "language_info": {
   "codemirror_mode": {
    "name": "ipython",
    "version": 3
   },
   "file_extension": ".py",
   "mimetype": "text/x-python",
   "name": "python",
   "nbconvert_exporter": "python",
   "pygments_lexer": "ipython3",
   "version": "3.10.9"
  }
 },
 "nbformat": 4,
 "nbformat_minor": 5
}
