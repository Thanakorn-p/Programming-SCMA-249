{
 "cells": [
  {
   "cell_type": "code",
   "execution_count": null,
   "id": "9d16501b",
   "metadata": {
    "scrolled": true
   },
   "outputs": [],
   "source": [
    "#Example 3.1.1\n",
    "for k in range(4):\n",
    "    print(k)"
   ]
  },
  {
   "cell_type": "code",
   "execution_count": null,
   "id": "8fd57be9",
   "metadata": {},
   "outputs": [],
   "source": [
    "#Example 3.1.2\n",
    "for x1 in range(2,6):\n",
    "    print(x1)"
   ]
  },
  {
   "cell_type": "code",
   "execution_count": null,
   "id": "59a5365a",
   "metadata": {
    "scrolled": true
   },
   "outputs": [],
   "source": [
    "#Example 3.1.3\n",
    "for x2 in range(2,6,2):\n",
    "    print(x2)"
   ]
  },
  {
   "cell_type": "code",
   "execution_count": null,
   "id": "16b04fe1",
   "metadata": {},
   "outputs": [],
   "source": [
    "#Example 3.1.4\n",
    "for x3 in range(12,0,-3):\n",
    "    print(x3)"
   ]
  },
  {
   "cell_type": "code",
   "execution_count": null,
   "id": "1244d1b4",
   "metadata": {},
   "outputs": [],
   "source": [
    "#Example 3.1.5\n",
    "for a in range(5,5):\n",
    "    print(k)"
   ]
  },
  {
   "cell_type": "code",
   "execution_count": null,
   "id": "bf60d6fa",
   "metadata": {},
   "outputs": [],
   "source": [
    "#Example 3.1.6\n",
    "for var in range(8,20,-2):\n",
    "    print(var)"
   ]
  },
  {
   "cell_type": "code",
   "execution_count": null,
   "id": "100eac27",
   "metadata": {},
   "outputs": [],
   "source": [
    "#Example 3.2\n",
    "aver_height = 0\n",
    "#ask for the user input\n",
    "for i in range(5) :\n",
    "    print('Person',i+1)\n",
    "    h = float(input())\n",
    "    aver_height += h #aver_height = aver_height + h\n",
    "print('average = ', (aver_height/5))"
   ]
  },
  {
   "cell_type": "code",
   "execution_count": null,
   "id": "da334330",
   "metadata": {
    "scrolled": true
   },
   "outputs": [],
   "source": [
    "#Example 3.3.1\n",
    "for i in range(2):\n",
    "    print(\"out\")\n",
    "for j in range(2):\n",
    "    print(\"in\")"
   ]
  },
  {
   "cell_type": "code",
   "execution_count": null,
   "id": "725f9d6e",
   "metadata": {
    "scrolled": true
   },
   "outputs": [],
   "source": [
    "for i in range(2):\n",
    "    print(i,\"out\")\n",
    "    for j in range(2):\n",
    "        print(j,\"in\")"
   ]
  },
  {
   "cell_type": "code",
   "execution_count": null,
   "id": "8ca3ff8c",
   "metadata": {
    "scrolled": true
   },
   "outputs": [],
   "source": [
    "for i in range(2):\n",
    "    print(i,\"out\")\n",
    "    for j in range(2):\n",
    "        print(j,\"in\")\n",
    "        print(\"xxxxxxx\")"
   ]
  },
  {
   "cell_type": "code",
   "execution_count": null,
   "id": "94a10bfd",
   "metadata": {
    "scrolled": true
   },
   "outputs": [],
   "source": [
    "for i in range(2):\n",
    "    print(i,\"out\")\n",
    "    for j in range(2):\n",
    "        print(j,\"in\")\n",
    "        print(\"xxxxxxx\")"
   ]
  },
  {
   "cell_type": "code",
   "execution_count": null,
   "id": "f540d9d0",
   "metadata": {},
   "outputs": [],
   "source": [
    "#Example 3.4\n",
    "k = 0\n",
    "while k < 4:\n",
    "    print(k)\n",
    "    k += 1"
   ]
  },
  {
   "cell_type": "code",
   "execution_count": null,
   "id": "705bb39f",
   "metadata": {
    "scrolled": true
   },
   "outputs": [],
   "source": [
    "#Example 3.4.1\n",
    "k = 0\n",
    "while True:\n",
    "    print (k)\n",
    "    k = k + 1\n",
    "    if k == 4:\n",
    "        break"
   ]
  },
  {
   "cell_type": "code",
   "execution_count": null,
   "id": "697a194d",
   "metadata": {},
   "outputs": [],
   "source": [
    "#Example 3.5\n",
    "from random import randint\n",
    "secret_num = randint(1,10)\n",
    "guess = 0\n",
    "while guess != secret_num:\n",
    "    guess = eval(input('Guess the secret number: '))\n",
    "print('You finally got it!')"
   ]
  },
  {
   "cell_type": "code",
   "execution_count": null,
   "id": "9e7c5cbe",
   "metadata": {},
   "outputs": [],
   "source": [
    "#Example 3.5\n",
    "from random import randint\n",
    "secret_num = randint(1,10)\n",
    "guess = 0\n",
    "while True:\n",
    "    guess = eval(input('Guess the secret number: '))\n",
    "    if guess == secret_num:\n",
    "        break\n",
    "print('You finally got it!')"
   ]
  },
  {
   "cell_type": "code",
   "execution_count": null,
   "id": "43621faf",
   "metadata": {
    "scrolled": true
   },
   "outputs": [],
   "source": [
    "#Example 3.6\n",
    "for i in range(10):\n",
    "    num = eval(input('Enter number: '))\n",
    "    if num < 0:\n",
    "        break"
   ]
  },
  {
   "cell_type": "code",
   "execution_count": null,
   "id": "e3dae850",
   "metadata": {},
   "outputs": [],
   "source": [
    "# Example 3.7\n",
    "for i in range(10):\n",
    "    num = eval(input('Enter number: '))\n",
    "    if num<0:\n",
    "        print('Stopped early')\n",
    "        break\n",
    "else:\n",
    "    print('User entered all ten values') # if the forloop does not stop early, it is gonna print this one"
   ]
  },
  {
   "cell_type": "code",
   "execution_count": null,
   "id": "ed1f351b",
   "metadata": {},
   "outputs": [],
   "source": [
    "# Example 3.8\n",
    "num = eval(input('Enter the number:'))\n",
    "i = 2\n",
    "while i < num and num%i != 0:\n",
    "    i = i + 1\n",
    "if i == num:\n",
    "    print('Prime')\n",
    "else:\n",
    "    print('Not prime')"
   ]
  },
  {
   "cell_type": "code",
   "execution_count": null,
   "id": "feb661ca",
   "metadata": {
    "scrolled": true
   },
   "outputs": [],
   "source": [
    "# Example 3.9a\n",
    "s= 'amornsamankul'\n",
    "n = 1\n",
    "for i in s:\n",
    "    print('List item', n, '=',i)\n",
    "    n +=1"
   ]
  },
  {
   "cell_type": "code",
   "execution_count": null,
   "id": "68fa0b3a",
   "metadata": {},
   "outputs": [],
   "source": [
    "# Example 3.9b\n",
    "s='Amornsamankul'\n",
    "for i in s:\n",
    "    print(i, end='')\n",
    "# By default, the end parameter is set to '\\n', which means that a newline character \n",
    "# is printed at the end, causing the next print statement to start on a new line.\\\n",
    "# The end='' argument is used to specify that nothing should be printed \n",
    "# at the end of each character when using the print function.\n"
   ]
  },
  {
   "cell_type": "code",
   "execution_count": null,
   "id": "c78407e5",
   "metadata": {},
   "outputs": [],
   "source": [
    "#Example 3.10\n",
    "for i in range(1,10):\n",
    "    if i%2 == 0 :\n",
    "        print(i, 'is Even number')\n",
    "    else :\n",
    "        print(i, 'is Odd number')"
   ]
  },
  {
   "cell_type": "code",
   "execution_count": null,
   "id": "9b2faf20",
   "metadata": {
    "scrolled": true
   },
   "outputs": [],
   "source": [
    "#Example 3.11\n",
    "x = y = 0\n",
    "print('+------------------------------------------+')\n",
    "for row in range(1,11) :\n",
    "    print(' ', end = '')\n",
    "    print('|', end = '')\n",
    "    for column in range(1,11) :\n",
    "        y = x + column\n",
    "        print(' ', end = '')\n",
    "        if y < 10 :\n",
    "            print(end = ' ')\n",
    "        print(y, end=' ')\n",
    "    x = y\n",
    "    if y == 100:\n",
    "        print('|')\n",
    "    else:\n",
    "        print(' |')\n",
    "    print('+------------------------------------------+')"
   ]
  },
  {
   "cell_type": "code",
   "execution_count": null,
   "id": "45761b92",
   "metadata": {},
   "outputs": [],
   "source": [
    "# Example 3.12\n",
    "phone = input('Enter your phone number : ')\n",
    "for tel in phone:\n",
    "    if tel == '-' :\n",
    "        continue\n",
    "    print(tel, end = '')\n",
    "print('\\nEnd of loop')\n",
    "# If the character is a hyphen, it uses the continue statement to skip the current iteration\n",
    "# and move to the next character."
   ]
  }
 ],
 "metadata": {
  "kernelspec": {
   "display_name": "Python 3 (ipykernel)",
   "language": "python",
   "name": "python3"
  },
  "language_info": {
   "codemirror_mode": {
    "name": "ipython",
    "version": 3
   },
   "file_extension": ".py",
   "mimetype": "text/x-python",
   "name": "python",
   "nbconvert_exporter": "python",
   "pygments_lexer": "ipython3",
   "version": "3.10.9"
  }
 },
 "nbformat": 4,
 "nbformat_minor": 5
}
