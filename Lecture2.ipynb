{
 "cells": [
  {
   "cell_type": "code",
   "execution_count": null,
   "id": "05dbfc4d",
   "metadata": {
    "scrolled": true
   },
   "outputs": [],
   "source": [
    "# Example 2.1\n",
    "name = input('Enter your name:')"
   ]
  },
  {
   "cell_type": "code",
   "execution_count": null,
   "id": "69a277c5",
   "metadata": {},
   "outputs": [],
   "source": [
    "# Example 2.2 \n",
    "num = eval(input('Enter a number'))\n",
    "sq = num*num\n",
    "sq"
   ]
  },
  {
   "cell_type": "code",
   "execution_count": null,
   "id": "6c2ac50c",
   "metadata": {},
   "outputs": [],
   "source": [
    "help(eval)"
   ]
  },
  {
   "cell_type": "code",
   "execution_count": null,
   "id": "cb5d8de0",
   "metadata": {},
   "outputs": [],
   "source": [
    "#Example 2.3\n",
    "print(name)"
   ]
  },
  {
   "cell_type": "code",
   "execution_count": null,
   "id": "2d7f31b1",
   "metadata": {},
   "outputs": [],
   "source": [
    "#Example 2.5\n",
    "print('2*4')\n",
    "print('the value of 2*4 is', 2*4)"
   ]
  },
  {
   "cell_type": "code",
   "execution_count": null,
   "id": "f644e48b",
   "metadata": {},
   "outputs": [],
   "source": [
    "# Example 2.6\n",
    "#Read the cost price\n",
    "cp = eval(input('Enter the cost price (baht):'))\n",
    "\n",
    "#Read the value of selling price\n",
    "sp = eval(input('Enter the selling price (baht):'))\n",
    "if sp > cp:\n",
    "    profit = sp - cp\n",
    "    print('Somkid makes profit of ', profit)\n",
    "elif sp < cp:\n",
    "    loss = cp - sp\n",
    "    print('Somkid makes loss of ', loss)\n",
    "else:\n",
    "    print('Breakeven')"
   ]
  },
  {
   "cell_type": "code",
   "execution_count": null,
   "id": "2df2d114",
   "metadata": {},
   "outputs": [],
   "source": [
    "#import radint fuction\n",
    "from random import randint"
   ]
  },
  {
   "cell_type": "code",
   "execution_count": null,
   "id": "e9a6ba74",
   "metadata": {},
   "outputs": [],
   "source": [
    "#Example 2.7\n",
    "num = randint(1,2)\n",
    "guess = eval(input('Enter your guess: '))\n",
    "if guess==num:\n",
    "    print('You got it!')\n",
    "else:\n",
    "    print('Sorry. the correct number is', num)"
   ]
  },
  {
   "cell_type": "code",
   "execution_count": null,
   "id": "4742db61",
   "metadata": {},
   "outputs": [],
   "source": [
    "grade = eval(input('Enter your score: '))\n",
    "if grade>=90:\n",
    "    print('A')\n",
    "if grade>=80 and grade<90:\n",
    "    print('B')\n",
    "if grade>=70 and grade<80:\n",
    "    print('C')\n",
    "if grade>=60 and grade<70:\n",
    "    print('D')\n",
    "if grade<60:\n",
    "    print('F')"
   ]
  },
  {
   "cell_type": "code",
   "execution_count": null,
   "id": "0ee1caa4",
   "metadata": {},
   "outputs": [],
   "source": [
    "grade = eval(input('Enter your score: '))\n",
    "if grade>=90:\n",
    "    print('A')\n",
    "elif grade>=80: \n",
    "    print('B')\n",
    "elif grade>=70: \n",
    "    print('C')\n",
    "elif grade>=70:\n",
    "    print('D')\n",
    "else:\n",
    "    print('F')"
   ]
  }
 ],
 "metadata": {
  "kernelspec": {
   "display_name": "Python 3 (ipykernel)",
   "language": "python",
   "name": "python3"
  },
  "language_info": {
   "codemirror_mode": {
    "name": "ipython",
    "version": 3
   },
   "file_extension": ".py",
   "mimetype": "text/x-python",
   "name": "python",
   "nbconvert_exporter": "python",
   "pygments_lexer": "ipython3",
   "version": "3.10.9"
  }
 },
 "nbformat": 4,
 "nbformat_minor": 5
}
