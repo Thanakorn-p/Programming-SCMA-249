{
 "cells": [
  {
   "cell_type": "code",
   "execution_count": 8,
   "id": "e7e0061b",
   "metadata": {
    "scrolled": true
   },
   "outputs": [
    {
     "name": "stdout",
     "output_type": "stream",
     "text": [
      "Are you abose?\n",
      "Please give us your weigh and height.\n",
      "We can tell your BMI and obesity level.\n",
      "Enter your weight (in kilogram):73\n",
      "ENter your height (in meter):1.84\n",
      "Your BMI is 21.561909262759922 Normal weight Normal – God good!\n"
     ]
    }
   ],
   "source": [
    "print(\"Are you abose?\")\n",
    "print(\"Please give us your weigh and height.\")\n",
    "print(\"We can tell your BMI and obesity level.\")\n",
    "w = eval(input('Enter your weight (in kilogram):'))\n",
    "h = eval(input('ENter your height (in meter):'))\n",
    "bmi = w/(h**2)\n",
    "if bmi >= 40:\n",
    "    print(\"Your BMI is\", bmi,\"Class III obesity\",\"Morbidly obese - See a doctor!!!\")\n",
    "elif bmi >= 35:\n",
    "    print(\"Your BMI is\", bmi,\"Class II obesity\",\"Obese – get off the couch!!\")\n",
    "elif bmi >= 30:\n",
    "    print(\"Your BMI is\", bmi,\"Class I obesity\",\"Obese – get off the couch!!\")\n",
    "elif bmi >= 25:\n",
    "    print(\"Your BMI is\", bmi,\"Overweight\",\"Overweight – exercise more and more!\")\n",
    "elif bmi >= 18.5:\n",
    "    print(\"Your BMI is\", bmi,\"Normal weight\",\"Normal – God good!\")\n",
    "else:\n",
    "    print(\"Your BMI is\", bmi,\"Underweight\",\"Underweight – eat more KFC!\")"
   ]
  },
  {
   "cell_type": "code",
   "execution_count": 15,
   "id": "a23553dd",
   "metadata": {},
   "outputs": [
    {
     "name": "stdout",
     "output_type": "stream",
     "text": [
      "Rock paper scissors! (1 for rock, 2 for paper and 3 for Scissors):2\n",
      "You draw!\n",
      "Rock paper scissors! (1 for rock, 2 for paper and 3 for Scissors):3\n",
      "You lose!\n"
     ]
    }
   ],
   "source": [
    "from random import randint\n",
    "while True:\n",
    "    player = eval(input(\"Rock paper scissors! (1 for rock, 2 for paper and 3 for Scissors):\"))\n",
    "    pc = randint(1,3)\n",
    "\n",
    "    if player == 1 and pc == 3:\n",
    "        a=1\n",
    "    if player == 2 and pc == 1:\n",
    "        a=1\n",
    "    if player == 3 and pc == 2:\n",
    "        a=1\n",
    "    elif player == pc:\n",
    "        a=2\n",
    "    else:\n",
    "        a=3\n",
    "    if a == 1:\n",
    "        print (\"You win!\")\n",
    "    elif a==2:\n",
    "        print (\"You draw!\")\n",
    "    else:\n",
    "        print (\"You lose!\")\n",
    "    if a != 2:\n",
    "        break"
   ]
  },
  {
   "cell_type": "code",
   "execution_count": null,
   "id": "b560b38b",
   "metadata": {},
   "outputs": [],
   "source": []
  }
 ],
 "metadata": {
  "kernelspec": {
   "display_name": "Python 3 (ipykernel)",
   "language": "python",
   "name": "python3"
  },
  "language_info": {
   "codemirror_mode": {
    "name": "ipython",
    "version": 3
   },
   "file_extension": ".py",
   "mimetype": "text/x-python",
   "name": "python",
   "nbconvert_exporter": "python",
   "pygments_lexer": "ipython3",
   "version": "3.10.9"
  }
 },
 "nbformat": 4,
 "nbformat_minor": 5
}
